{
 "cells": [
  {
   "cell_type": "code",
   "execution_count": 4,
   "metadata": {},
   "outputs": [
    {
     "name": "stdout",
     "output_type": "stream",
     "text": [
      "\u001b[35m[\u001b[0m#2ba4b7 141MiB/144MiB\u001b[36m(98%)\u001b[0m CN:5 DL:\u001b[32m11MiB\u001b[0m\u001b[35m]\u001b[0m\u001b[0mm0m\u001b[35m]\u001b[0m\u001b[0mmm\n",
      "Download Results:\n",
      "gid   |stat|avg speed  |path/URI\n",
      "======+====+===========+=======================================================\n",
      "2ba4b7|\u001b[1;32mOK\u001b[0m  |    10MiB/s|./models/tartoise//cvvp1.pth\n",
      "\n",
      "Status Legend:\n",
      "(OK):download completed.\n"
     ]
    }
   ],
   "source": [
    "!aria2c --console-log-level=error -c -x 16 -s 16 -k 1M https://huggingface.co/jbetker/tortoise-tts-v2/resolve/main/.models/classifier.pth -d ./models/tortoise/ -o classifier.pth\n",
    "!aria2c --console-log-level=error -c -x 16 -s 16 -k 1M https://huggingface.co/jbetker/tortoise-tts-v2/resolve/main/.models/clvp2.pth -d ./models/tortoise/ -o clvp2.pth\n",
    "!aria2c --console-log-level=error -c -x 16 -s 16 -k 1M https://huggingface.co/jbetker/tortoise-tts-v2/resolve/main/.models/cvvp.pth -d ./models/tortoise/ -o cvvp1.pth\n",
    "!aria2c --console-log-level=error -c -x 16 -s 16 -k 1M https://huggingface.co/jbetker/tortoise-tts-v2/resolve/main/.models/diffusion_decoder.pth -d ./models/tortoise/ -o diffusion_decoder.pth\n",
    "!aria2c --console-log-level=error -c -x 16 -s 16 -k 1M https://huggingface.co/jbetker/tortoise-tts-v2/resolve/main/.models/vocoder.pth -d ./models/tortoise/ -o vocoder.pth\n",
    "!aria2c --console-log-level=error -c -x 16 -s 16 -k 1M https://huggingface.co/jbetker/tortoise-tts-v2/resolve/main/.models/rlg_auto.pth -d ./models/tortoise/ -o rlg_auto.pth\n",
    "!aria2c --console-log-level=error -c -x 16 -s 16 -k 1M https://huggingface.co/jbetker/tortoise-tts-v2/resolve/main/.models/rlg_diffuser.pth -d ./models/tortoise/ -o rlg_diffuser.pth\n",
    "!aria2c --console-log-level=error -c -x 16 -s 16 -k 1M https://huggingface.co/jbetker/tortoise-tts-v2/resolve/main/.models/bigvgan_base_24khz_100band.pth -d ./models/tortoise/ -o bigvgan_base_24khz_100band.pth\n",
    "!aria2c --console-log-level=error -c -x 16 -s 16 -k 1M https://huggingface.co/jbetker/tortoise-tts-v2/resolve/main/.models/bigvgan_24khz_100band.pth -d ./models/tortoise/ -o bigvgan_24khz_100band.pth"
   ]
  },
  {
   "cell_type": "code",
   "execution_count": null,
   "metadata": {},
   "outputs": [],
   "source": []
  }
 ],
 "metadata": {
  "kernelspec": {
   "display_name": "Python 3",
   "language": "python",
   "name": "python3"
  },
  "language_info": {
   "codemirror_mode": {
    "name": "ipython",
    "version": 3
   },
   "file_extension": ".py",
   "mimetype": "text/x-python",
   "name": "python",
   "nbconvert_exporter": "python",
   "pygments_lexer": "ipython3",
   "version": "3.11.4"
  },
  "orig_nbformat": 4
 },
 "nbformat": 4,
 "nbformat_minor": 2
}
